{
 "cells": [
  {
   "cell_type": "code",
   "execution_count": 2,
   "id": "c1e5f87f",
   "metadata": {},
   "outputs": [
    {
     "name": "stdout",
     "output_type": "stream",
     "text": [
      "{'en': 'english', 'fr': 'french', 'cn': 'chinese'} <class 'dict'>\n",
      "en english\n",
      "fr french\n",
      "cn chinese\n",
      "key not found\n",
      "key not found\n",
      "dict_keys(['en', 'fr', 'cn']) ['en', 'fr', 'cn']\n",
      "dict_values(['english', 'french', 'chinese'])\n",
      "dict_items([('en', 'english'), ('fr', 'french'), ('cn', 'chinese')])\n",
      "en english\n",
      "fr french\n",
      "cn chinese\n"
     ]
    }
   ],
   "source": [
    "lang ={'en':'english','fr':\"french\",'cn':'chinese'}\n",
    "print(lang,type(lang))\n",
    "for i in lang:\n",
    "    print(i,lang[i])\n",
    "if 0 in lang:\n",
    "    print(lang[0])\n",
    "else:\n",
    "    print('key not found')\n",
    "    \n",
    "print(lang.get(0,'key not found'))\n",
    "print(lang.keys(),list(lang.keys()))\n",
    "print(lang.values())\n",
    "print(lang.items())\n",
    "for keys,vals in lang.items():\n",
    "    print(keys,vals)"
   ]
  },
  {
   "cell_type": "code",
   "execution_count": 3,
   "id": "83b9ec97",
   "metadata": {},
   "outputs": [
    {
     "name": "stdout",
     "output_type": "stream",
     "text": [
      "mu\n",
      "r\n",
      "odlanor\n"
     ]
    }
   ],
   "source": [
    "name ='ronaldo'\n",
    "teams=('rm','ju','mu')\n",
    "player=[name,teams]\n",
    "print(player[1][-1])\n",
    "print(player[0][0])\n",
    "print(name[::-1])"
   ]
  },
  {
   "cell_type": "code",
   "execution_count": 4,
   "id": "0e48938f",
   "metadata": {},
   "outputs": [
    {
     "name": "stdout",
     "output_type": "stream",
     "text": [
      "2401\n"
     ]
    }
   ],
   "source": [
    "print(7**4)"
   ]
  },
  {
   "cell_type": "code",
   "execution_count": 5,
   "id": "ccfa4aee",
   "metadata": {},
   "outputs": [
    {
     "name": "stdout",
     "output_type": "stream",
     "text": [
      "diameter of earth is 12734\n",
      "diamter of earth is 12734\n"
     ]
    }
   ],
   "source": [
    "planet = \"earth\"\n",
    "diameter=12734\n",
    "print('diameter of earth is',diameter)\n",
    "print(f'diamter of {planet} is {diameter}')"
   ]
  },
  {
   "cell_type": "code",
   "execution_count": 6,
   "id": "831efb68",
   "metadata": {},
   "outputs": [
    {
     "name": "stdout",
     "output_type": "stream",
     "text": [
      "['this', '', '', '', 'is', 'python', 'programming']\n"
     ]
    }
   ],
   "source": [
    "s = 'this    is python programming'\n",
    "print(s.split(' '))"
   ]
  },
  {
   "cell_type": "code",
   "execution_count": 7,
   "id": "a2c879cc",
   "metadata": {},
   "outputs": [
    {
     "name": "stdout",
     "output_type": "stream",
     "text": [
      "iph*one\n",
      "ip*ad\n"
     ]
    }
   ],
   "source": [
    "giftBox = 'bread iph*one butter ip*ad milk'\n",
    "boxy = giftBox.split(' ')\n",
    "for i in boxy:\n",
    "    if '*' in i:\n",
    "        print(i)"
   ]
  },
  {
   "cell_type": "code",
   "execution_count": 8,
   "id": "fd214219",
   "metadata": {},
   "outputs": [
    {
     "name": "stdout",
     "output_type": "stream",
     "text": [
      "['red', 'orange', 'blue', 'indigo', 'green']\n",
      "orange the first character is: o\n",
      "indigo the first character is: i\n"
     ]
    }
   ],
   "source": [
    "colors = 'red orange blue indigo green'\n",
    "col=colors.split()\n",
    "print(col)\n",
    "for color in col:\n",
    "    if color[0] in ['a','e','i','o','u']:\n",
    "        print(color, 'the first character is:', color[0])\n",
    "    \n",
    "      \n"
   ]
  },
  {
   "cell_type": "code",
   "execution_count": 9,
   "id": "c7e86dcf",
   "metadata": {},
   "outputs": [
    {
     "name": "stdout",
     "output_type": "stream",
     "text": [
      "hello\n"
     ]
    }
   ],
   "source": [
    "lst = [1,2,[3,4],[5,[100,200,[True,'hello'],False],'hi'],10,11]\n",
    "print(lst[3][1][2][1])\n",
    "    "
   ]
  },
  {
   "cell_type": "code",
   "execution_count": 10,
   "id": "8ea64db5",
   "metadata": {},
   "outputs": [
    {
     "data": {
      "text/plain": [
       "'hello'"
      ]
     },
     "execution_count": 10,
     "metadata": {},
     "output_type": "execute_result"
    }
   ],
   "source": [
    "# use in#dexes, dict keys and splitting of strings\n",
    "dct = {'here':[1,2,3,{'target':(False,{'color':'black','greetings':['hello world']})}]}\n",
    "dct['here'][3]['target'][1]['greetings'][0][0:5]"
   ]
  },
  {
   "cell_type": "code",
   "execution_count": 22,
   "id": "b92b4d5c",
   "metadata": {},
   "outputs": [
    {
     "name": "stdout",
     "output_type": "stream",
     "text": [
      "enter your number :7\n",
      "try again it's too low\n",
      "enter your number :8\n",
      "try again it's too low\n",
      "enter your number :9\n",
      "whoh heya\n"
     ]
    }
   ],
   "source": [
    "import random\n",
    "com_choice = random.randint(1,10)\n",
    "\n",
    "\n",
    "\n",
    "i=0\n",
    "\n",
    "while i<3:\n",
    "    num=int(input(\"enter your number :\"))\n",
    "    if num>com_choice:\n",
    "        print(\"try again it's too high\")\n",
    "    elif num < com_choice:\n",
    "        print(\"try again it's too low\")\n",
    "    else:\n",
    "        print(\"whoh heya\")\n",
    "        break\n",
    "    i=i+1\n",
    "if i==3:\n",
    "    print(\"whoppsie the number was \",com_choice)\n",
    "    "
   ]
  },
  {
   "cell_type": "code",
   "execution_count": 29,
   "id": "bc10f70f",
   "metadata": {},
   "outputs": [
    {
     "name": "stdout",
     "output_type": "stream",
     "text": [
      "1\n"
     ]
    }
   ],
   "source": [
    "for i in range(1,5,4):\n",
    "    print(i)"
   ]
  },
  {
   "cell_type": "code",
   "execution_count": 43,
   "id": "06c6abe6",
   "metadata": {},
   "outputs": [
    {
     "name": "stdout",
     "output_type": "stream",
     "text": [
      "enter your number :9\n",
      "try again it's too high\n",
      "enter your number :8\n",
      "try again it's too high\n",
      "enter your number :7\n",
      "try again it's too high\n",
      "whoppsie the number was  3\n",
      "game over\n"
     ]
    }
   ],
   "source": [
    "import random\n",
    "com_choice = random.randint(1,10)\n",
    "\n",
    "i=0\n",
    "\n",
    "counter=3\n",
    "for i in range(3):\n",
    "    num=int(input(\"enter your number :\"))\n",
    "    if num>com_choice:\n",
    "        print(\"try again it's too high\")\n",
    "    elif num < com_choice:\n",
    "        print(\"try again it's too low\")\n",
    "    else:\n",
    "        print(\"whoh heya\")\n",
    "        break\n",
    "    counter-=1\n",
    "    \n",
    "    \n",
    "else:\n",
    "    \n",
    "    print(\"whoppsie the number was \",com_choice)\n",
    "print('game over')\n",
    "    "
   ]
  },
  {
   "cell_type": "code",
   "execution_count": 48,
   "id": "ba843867",
   "metadata": {},
   "outputs": [
    {
     "name": "stdout",
     "output_type": "stream",
     "text": [
      "<class 'module'>\n",
      "<module 'random' from 'D:\\\\Anaconda\\\\lib\\\\random.py'>\n"
     ]
    },
    {
     "name": "stderr",
     "output_type": "stream",
     "text": [
      "'cat' is not recognized as an internal or external command,\n",
      "operable program or batch file.\n"
     ]
    }
   ],
   "source": [
    "import random\n",
    "print(type(random))\n",
    "print(random)\n",
    "! cat  /usr/lib/python3.7/random.py"
   ]
  },
  {
   "cell_type": "code",
   "execution_count": null,
   "id": "4d147ca8",
   "metadata": {},
   "outputs": [],
   "source": []
  }
 ],
 "metadata": {
  "kernelspec": {
   "display_name": "Python 3 (ipykernel)",
   "language": "python",
   "name": "python3"
  },
  "language_info": {
   "codemirror_mode": {
    "name": "ipython",
    "version": 3
   },
   "file_extension": ".py",
   "mimetype": "text/x-python",
   "name": "python",
   "nbconvert_exporter": "python",
   "pygments_lexer": "ipython3",
   "version": "3.9.7"
  }
 },
 "nbformat": 4,
 "nbformat_minor": 5
}
