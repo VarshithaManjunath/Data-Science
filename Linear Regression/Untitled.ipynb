{
 "cells": [
  {
   "cell_type": "code",
   "execution_count": null,
   "id": "641b8e88",
   "metadata": {},
   "outputs": [],
   "source": [
    "import numpy as np\n",
    "import pandas as pd\n"
   ]
  },
  {
   "cell_type": "code",
   "execution_count": null,
   "id": "eef52e19",
   "metadata": {},
   "outputs": [],
   "source": [
    "advertising = pd.read_csv(\"advertising.csv\")\n",
    "advertising.head()"
   ]
  },
  {
   "cell_type": "code",
   "execution_count": null,
   "id": "d5439ecb",
   "metadata": {},
   "outputs": [],
   "source": [
    "advertising.shape"
   ]
  },
  {
   "cell_type": "raw",
   "id": "71a54ee8",
   "metadata": {},
   "source": [
    "advertising.info()"
   ]
  },
  {
   "cell_type": "code",
   "execution_count": null,
   "id": "62be5c3f",
   "metadata": {},
   "outputs": [],
   "source": [
    "advertising.describe()"
   ]
  },
  {
   "cell_type": "code",
   "execution_count": null,
   "id": "f35c4342",
   "metadata": {},
   "outputs": [],
   "source": [
    "import matplotlib.pyplot as plt\n",
    "import seaborn as sns\n"
   ]
  },
  {
   "cell_type": "code",
   "execution_count": null,
   "id": "a4737652",
   "metadata": {},
   "outputs": [],
   "source": [
    "#visualize the data\n",
    "sns.pairplot(data = advertising,x_vars =['TV',\"Radio\",\"Newspaper\"],y_vars=\"Sales\")"
   ]
  },
  {
   "cell_type": "code",
   "execution_count": null,
   "id": "c7bf1ba5",
   "metadata": {},
   "outputs": [],
   "source": [
    "advertising.corr()"
   ]
  },
  {
   "cell_type": "code",
   "execution_count": null,
   "id": "9169107f",
   "metadata": {},
   "outputs": [],
   "source": [
    "sns.heatmap(advertising.corr(),annot =True)"
   ]
  },
  {
   "cell_type": "code",
   "execution_count": null,
   "id": "e972c47e",
   "metadata": {},
   "outputs": [],
   "source": [
    "import statsmodels\n",
    "import statsmodels.api as sm\n",
    "import sklearn\n"
   ]
  },
  {
   "cell_type": "code",
   "execution_count": null,
   "id": "a3593079",
   "metadata": {},
   "outputs": [],
   "source": [
    "#steps:\n",
    "#    -create x and y\n",
    "#    -create train and test sets (typical 70-30 or 80-20 training, testing)\n",
    "#    -train your model on the training set (i.e. learn the coefficients)\n",
    "#    -Evaluate the model (training set, test set)\n",
    "    "
   ]
  },
  {
   "cell_type": "code",
   "execution_count": null,
   "id": "d1491b6a",
   "metadata": {},
   "outputs": [],
   "source": [
    "X = advertising['TV']\n",
    "Y = advertising['Sales']\n",
    "\n",
    "x1= [2,3,4,5,6,7,8]\n",
    "y1= [9,10,15,16,18,24,25]\n"
   ]
  },
  {
   "cell_type": "code",
   "execution_count": null,
   "id": "09868cab",
   "metadata": {},
   "outputs": [],
   "source": [
    "#train test split\n",
    "from sklearn.model_selection import train_test_split"
   ]
  },
  {
   "cell_type": "code",
   "execution_count": null,
   "id": "5b4e6859",
   "metadata": {},
   "outputs": [],
   "source": [
    "X_train, X_test,Y_train,Y_test=train_test_split(X,Y,train_size = 0.70, random_state = 100)"
   ]
  },
  {
   "cell_type": "code",
   "execution_count": null,
   "id": "3422ccc4",
   "metadata": {},
   "outputs": [],
   "source": [
    "X_train.shape"
   ]
  },
  {
   "cell_type": "code",
   "execution_count": null,
   "id": "9d132095",
   "metadata": {},
   "outputs": [],
   "source": [
    "X_test.shape"
   ]
  },
  {
   "cell_type": "code",
   "execution_count": null,
   "id": "5ebe0601",
   "metadata": {},
   "outputs": [],
   "source": [
    "#training the model\n",
    "#tell the library about the\n",
    "X_train_sm = sm.add_constant(X_train)\n",
    "X_train_sm.head()"
   ]
  },
  {
   "cell_type": "code",
   "execution_count": null,
   "id": "9ab74750",
   "metadata": {},
   "outputs": [],
   "source": [
    "# y = c+m1.x1\n",
    "# y = cxconsant which is 1 + m1xTV\n",
    "X_train_sm.head()"
   ]
  },
  {
   "cell_type": "code",
   "execution_count": null,
   "id": "fb17d2fd",
   "metadata": {},
   "outputs": [],
   "source": [
    "#fitting the model\n",
    "lr = sm.OLS(Y_train,X_train)\n",
    "lr_model= lr.fit()"
   ]
  },
  {
   "cell_type": "code",
   "execution_count": null,
   "id": "04b3a777",
   "metadata": {},
   "outputs": [],
   "source": []
  }
 ],
 "metadata": {
  "kernelspec": {
   "display_name": "Python 3 (ipykernel)",
   "language": "python",
   "name": "python3"
  },
  "language_info": {
   "codemirror_mode": {
    "name": "ipython",
    "version": 3
   },
   "file_extension": ".py",
   "mimetype": "text/x-python",
   "name": "python",
   "nbconvert_exporter": "python",
   "pygments_lexer": "ipython3",
   "version": "3.9.7"
  }
 },
 "nbformat": 4,
 "nbformat_minor": 5
}
